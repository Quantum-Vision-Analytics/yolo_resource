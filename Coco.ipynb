{
 "cells": [
  {
   "cell_type": "code",
   "execution_count": null,
   "metadata": {},
   "outputs": [],
   "source": [
    "from pylabel import importer\n",
    "import os "
   ]
  },
  {
   "attachments": {},
   "cell_type": "markdown",
   "metadata": {},
   "source": [
    "# İmport Kısmı\n",
    "Dosya yollarını değiştirmen gerek"
   ]
  },
  {
   "cell_type": "code",
   "execution_count": null,
   "metadata": {},
   "outputs": [],
   "source": [
    "\n",
    "#Specify path to the coco.json file\n",
    "path_to_annotations = \"C:\\\\Python Projects\\\\yolo_resource\\\\coco\\\\annotations\\\\instances_val2017.json\"\n",
    "#Specify the path to the images (if they are in a different folder than the annotations)\n",
    "path_to_images = \"C:\\\\Python Projects\\\\yolo_resource\\\\coco\\\\images\\\\val2017\"\n",
    "\n",
    "#Import the dataset into the pylable schema \n",
    "dataset = importer.ImportCoco(path_to_annotations, path_to_images=path_to_images, name=\"BCCD_coco\")\n",
    "dataset.df.head(5)"
   ]
  },
  {
   "cell_type": "code",
   "execution_count": null,
   "metadata": {},
   "outputs": [],
   "source": [
    "print(f\"Number of images: {dataset.analyze.num_images}\")\n",
    "print(f\"Number of classes: {dataset.analyze.num_classes}\")\n",
    "print(f\"Classes:{dataset.analyze.classes}\")\n",
    "print(f\"Class counts:\\n{dataset.analyze.class_counts}\")\n",
    "print(f\"Path to annotations:\\n{dataset.path_to_annotations}\")"
   ]
  },
  {
   "cell_type": "code",
   "execution_count": null,
   "metadata": {},
   "outputs": [],
   "source": [
    "from IPython.display import Image, display\n",
    "# display(dataset.visualize.ShowBoundingBoxes(1))\n",
    "display(dataset.visualize.ShowBoundingBoxes(\"000000000139.jpg\"))\n",
    "#display(dataset.visualize.ShowBoundingBoxes(\"armas--11-_jpg.rf.0d5dc792fac7fea578f50baba945993e.jpg\"))"
   ]
  },
  {
   "cell_type": "code",
   "execution_count": null,
   "metadata": {},
   "outputs": [],
   "source": [
    "from datetime import datetime\n",
    "import shutil\n",
    "if not os.path.isdir(\"exported\"):\n",
    "    os.mkdir(\"exported\")\n",
    "if not os.path.isdir(\"exported\\images\"):\n",
    "    os.mkdir(\"exported\\images\")\n",
    "\n",
    "# src_dir=\"C:\\\\Python Projects\\\\yolo_resource\\\\coco\\\\images\\\\val2017\\\\\"\n",
    "# dst_dir=\"C:\\\\Python Projects\\\\yolo_resource\\\\exported\\\\images\"\n",
    "\n",
    "# start1=datetime.now()\n",
    "\n",
    "# #Statements\n",
    "# for file_name in os.listdir(src_dir):\n",
    "#     if os.path.isfile(src_dir+file_name):\n",
    "#         shutil.copy(src_dir+file_name, dst_dir)\n",
    "\n",
    "# start2=datetime.now()\n",
    "# print(start2-start1)\n",
    "\n",
    "# if not os.path.isdir(\"exported\\\\labels_yolo\"):\n",
    "#     os.mkdir(\"exported\\labels_yolo\")\n",
    "# dataset.path_to_annotations = \"exported\\\\labels_yolo\"\n",
    "# dataset.export.ExportToYoloV5(output_path=\"exported\\\\labels_yolo\")[0]\n",
    "\n",
    "# start3=datetime.now()\n",
    "# print(start3-start2)\n",
    "\n",
    "if os.path.isdir(\"exported\\labels_voc\") == False:\n",
    "    os.mkdir(\"exported\\labels_voc\")\n",
    "dataset.path_to_annotations = \"exported\\\\labels_voc\"\n",
    "dataset.export.ExportToVoc()[0]\n",
    "\n",
    "# start4=datetime.now()\n",
    "# print(start4-start3)\n"
   ]
  }
 ],
 "metadata": {
  "kernelspec": {
   "display_name": "base",
   "language": "python",
   "name": "python3"
  },
  "language_info": {
   "codemirror_mode": {
    "name": "ipython",
    "version": 3
   },
   "file_extension": ".py",
   "mimetype": "text/x-python",
   "name": "python",
   "nbconvert_exporter": "python",
   "pygments_lexer": "ipython3",
   "version": "3.9.7"
  },
  "orig_nbformat": 4,
  "vscode": {
   "interpreter": {
    "hash": "d3ad0e4091038abe9230f4e2af681b1fc182a9b26b8adbc06871e344543b7903"
   }
  }
 },
 "nbformat": 4,
 "nbformat_minor": 2
}
