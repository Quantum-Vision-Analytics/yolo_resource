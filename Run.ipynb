{
 "cells": [
  {
   "cell_type": "markdown",
   "metadata": {},
   "source": [
    "# İmport modules"
   ]
  },
  {
   "cell_type": "code",
   "execution_count": null,
   "metadata": {},
   "outputs": [],
   "source": [
    "import os\n",
    "import wget"
   ]
  },
  {
   "cell_type": "markdown",
   "metadata": {},
   "source": [
    "# Setup (Clone or Update) "
   ]
  },
  {
   "cell_type": "markdown",
   "metadata": {},
   "source": [
    "<li>Directorylerde sorun yaşamamak için \"C:\\Python Projects\" uzantısında yoksa klasör oluşturulur varsa pas geçilir.\n",
    "<li>Directoryde eğer klonlanmış dosya yoksa klonlama varsa güncelleme işlemi yapılır.\n",
    "<li>model indirilmediyse onu da klonlama işleminden sonra halleder."
   ]
  },
  {
   "cell_type": "code",
   "execution_count": null,
   "metadata": {},
   "outputs": [],
   "source": [
    "# directorylerde sorun yaşamamak için \n",
    "if os.path.isdir(\"C:\\Python Projects\") == False:\n",
    "    os.mkdir(\"Python Projects\")\n",
    "else:\n",
    "    print(\"Python Projects klasörü zaten bulunuyor.\")\n",
    "os.chdir(\"C:\\Python Projects\")\n",
    "\n",
    "# directoryde eğer klonlanmış dosya yoksa klonla varsa güncelle işlemi yapılır.\n",
    "if os.path.isdir(\"C:\\Python Projects\\yolo_resource\") == False:\n",
    "    !git clone https://github.com/Quantum-Vision-Analytics/yolo_resource.git\n",
    "    print('klonlama işlemi gerçekleştirildi')\n",
    "    \n",
    "    if os.path.isfile(\"yolov7-e6e.pt\") == True:\n",
    "        print('modeliniz zaten yüklenmiş')\n",
    "    else:\n",
    "        URL = \"https://github.com/WongKinYiu/yolov7/releases/download/v0.1/yolov7-e6e.pt\"\n",
    "        wget.download(URL, \"yolov7-e6e.pt\")\n",
    "        print('Modeliniz başarıyla yüklendi!')\n",
    "else:\n",
    "  \n",
    "    if os.getcwd()  != 'C:\\Python Projects\\yolo_resource':\n",
    "        os.chdir(\"C:\\Python Projects\\yolo_resource\")\n",
    "        print('yolo_resource directorysine girdiniz')\n",
    "    else:\n",
    "        print('zaten yolo_resource directorysinin içindesiniz')\n",
    "\n",
    "    !git pull\n",
    "    print('değişiklikler githubdan çekildi')"
   ]
  },
  {
   "cell_type": "markdown",
   "metadata": {},
   "source": [
    "# Çalıştırma Kısmı"
   ]
  },
  {
   "cell_type": "code",
   "execution_count": 5,
   "metadata": {},
   "outputs": [
    {
     "name": "stderr",
     "output_type": "stream",
     "text": [
      "YOLOR  c602dc4 torch 1.12.0+cu113 CUDA:0 (NVIDIA GeForce GTX 1660 Ti, 6143.6875MB)\n",
      "\n",
      "Traceback (most recent call last):\n",
      "  File \"d:\\Coding\\Phyton\\yolo_resource\\utils\\google_utils.py\", line 26, in attempt_download\n",
      "    assets = [x['name'] for x in response['assets']]  # release assets\n",
      "KeyError: 'assets'\n",
      "\n",
      "During handling of the above exception, another exception occurred:\n",
      "\n",
      "Traceback (most recent call last):\n",
      "  File \"d:\\Coding\\Phyton\\yolo_resource\\Auto_Annotator.py\", line 62, in <module>\n",
      "    aa.Process()\n",
      "  File \"d:\\Coding\\Phyton\\yolo_resource\\Auto_Annotator.py\", line 16, in Process\n",
      "    self.modelInfHandler.Preprocess()\n",
      "  File \"d:\\Coding\\Phyton\\yolo_resource\\ModelInferenceHandler.py\", line 51, in Preprocess\n",
      "    self.model = attempt_load(weights, map_location=self.device)  # load FP32 model\n",
      "  File \"d:\\Coding\\Phyton\\yolo_resource\\models\\experimental.py\", line 251, in attempt_load\n",
      "    attempt_download(w)\n",
      "  File \"d:\\Coding\\Phyton\\yolo_resource\\utils\\google_utils.py\", line 31, in attempt_download\n",
      "    tag = subprocess.check_output('git tag', shell=True).decode().split()[-1]\n",
      "IndexError: list index out of range\n"
     ]
    }
   ],
   "source": [
    "!python Auto_Annotator.py --weights yolov7-e6e.pt --conf 0.25 --iou-thres 0.4 --img-size 384 --source \"imagesTest\" --save-txt --no-trace --nosave --exist-ok"
   ]
  },
  {
   "cell_type": "markdown",
   "metadata": {},
   "source": [
    "# Dosya işlemleri"
   ]
  },
  {
   "cell_type": "code",
   "execution_count": null,
   "metadata": {},
   "outputs": [],
   "source": [
    "# Dosya yolu tanımlamaları\n",
    "source_folder = \"detections\\\\\"+os.listdir(path=\"detections\")[-1]+\"\\labels\\\\\"\n",
    "classes_file = \"labelImg\\data\\predefined_classes.txt\"\n",
    "destination_folder = \"imagesTest\\\\\"\n",
    "\n",
    "# Detection işleminin sonucunda ortaya çıkan label(.txt) dosyalarını imagesTest klasörüne aktarma işlemi.\n",
    "for file_name in os.listdir(source_folder):\n",
    "    with open(source_folder+file_name, 'r') as fsrc:\n",
    "        with open(destination_folder+file_name,'w') as fdst:\n",
    "            fdst.write(fsrc.read())\n",
    "            fdst.write(fsrc.read())\n",
    "            fsrc.close()\n",
    "            fdst.close()\n",
    "\n",
    "# classes.txt dosyasını predefined_classes.txt dosyasından aktarma işlemi.\n",
    "# Eğer çalıştığımız dataset'in içerdiği classlar değişecekse sadece predefined_classes.txt değiştirilecek.\n",
    "with open(classes_file, 'r') as fcls:\n",
    "     with open(destination_folder+\"classes.txt\",'w') as fdst:\n",
    "            fdst.write(fcls.read())\n",
    "            fcls.close()\n",
    "            fdst.close()"
   ]
  },
  {
   "cell_type": "markdown",
   "metadata": {},
   "source": [
    "# LabelImg Kısmı"
   ]
  },
  {
   "cell_type": "code",
   "execution_count": null,
   "metadata": {},
   "outputs": [],
   "source": [
    "!python labelImg\\labelImg.py"
   ]
  }
 ],
 "metadata": {
  "kernelspec": {
   "display_name": "Python 3",
   "language": "python",
   "name": "python3"
  },
  "language_info": {
   "codemirror_mode": {
    "name": "ipython",
    "version": 3
   },
   "file_extension": ".py",
   "mimetype": "text/x-python",
   "name": "python",
   "nbconvert_exporter": "python",
   "pygments_lexer": "ipython3",
   "version": "3.10.8"
  },
  "orig_nbformat": 4,
  "vscode": {
   "interpreter": {
    "hash": "5312a05d4c1062e7e99dc4a1327331a73c17135ec320657c0e8e8843948bfa85"
   }
  }
 },
 "nbformat": 4,
 "nbformat_minor": 2
}
