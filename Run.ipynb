{
 "cells": [
  {
   "cell_type": "markdown",
   "metadata": {},
   "source": [
    "# İmport modules"
   ]
  },
  {
   "cell_type": "code",
   "execution_count": null,
   "metadata": {},
   "outputs": [],
   "source": [
    "import os\n",
    "import wget"
   ]
  },
  {
   "cell_type": "markdown",
   "metadata": {},
   "source": [
    "# Setup (Clone or Update) "
   ]
  },
  {
   "cell_type": "markdown",
   "metadata": {},
   "source": [
    "<li>Directorylerde sorun yaşamamak için \"C:\\Python Projects\" uzantısında yoksa klasör oluşturulur varsa pas geçilir.\n",
    "<li>Directoryde eğer klonlanmış dosya yoksa klonlama varsa güncelleme işlemi yapılır.\n",
    "<li>model indirilmediyse onu da klonlama işleminden sonra halleder."
   ]
  },
  {
   "cell_type": "code",
   "execution_count": null,
   "metadata": {},
   "outputs": [],
   "source": [
    "# directorylerde sorun yaşamamak için \n",
    "if os.path.isdir(\"C:\\Python Projects\") == False:\n",
    "    os.mkdir(\"Python Projects\")\n",
    "else:\n",
    "    print(\"Python Projects klasörü zaten bulunuyor.\")\n",
    "os.chdir(\"C:\\Python Projects\")\n",
    "\n",
    "# directoryde eğer klonlanmış dosya yoksa klonla varsa güncelle işlemi yapılır.\n",
    "if os.path.isdir(\"C:\\Python Projects\\yolo_resource\") == False:\n",
    "    !git clone https://github.com/Quantum-Vision-Analytics/yolo_resource.git\n",
    "    print('klonlama işlemi gerçekleştirildi')\n",
    "    \n",
    "    if os.path.isfile(\"yolov7-e6e.pt\") == True:\n",
    "        print('modeliniz zaten yüklenmiş')\n",
    "    else:\n",
    "        URL = \"https://github.com/WongKinYiu/yolov7/releases/download/v0.1/yolov7-e6e.pt\"\n",
    "        wget.download(URL, \"yolov7-e6e.pt\")\n",
    "        print('Modeliniz başarıyla yüklendi!')\n",
    "else:\n",
    "  \n",
    "    if os.getcwd()  != 'C:\\Python Projects\\yolo_resource':\n",
    "        os.chdir(\"C:\\Python Projects\\yolo_resource\")\n",
    "        print('yolo_resource directorysine girdiniz')\n",
    "    else:\n",
    "        print('zaten yolo_resource directorysinin içindesiniz')\n",
    "\n",
    "    !git pull\n",
    "    print('değişiklikler githubdan çekildi')"
   ]
  },
  {
   "cell_type": "markdown",
   "metadata": {},
   "source": [
    "# Çalıştırma Kısmı"
   ]
  },
  {
   "cell_type": "code",
   "execution_count": null,
   "metadata": {},
   "outputs": [],
   "source": [
    "!python Auto_Annotator.py --weights yolov7-e6e.pt --conf 0.25 --img-size 1280 --source imagesTest --no-trace --save-txt"
   ]
  },
  {
   "cell_type": "markdown",
   "metadata": {},
   "source": [
    "# Dosya işlemleri"
   ]
  },
  {
   "cell_type": "code",
   "execution_count": null,
   "metadata": {},
   "outputs": [],
   "source": [
    "# Dosya yolu tanımlamaları\n",
    "source_folder = \"detections\\\\\"+os.listdir(path=\"detections\")[-1]+\"\\labels\\\\\"\n",
    "classes_file = \"labelImg\\data\\predefined_classes.txt\"\n",
    "destination_folder = \"imagesTest\\\\\"\n",
    "\n",
    "# Detection işleminin sonucunda ortaya çıkan label(.txt) dosyalarını imagesTest klasörüne aktarma işlemi.\n",
    "for file_name in os.listdir(source_folder):\n",
    "    with open(source_folder+file_name, 'r') as fsrc:\n",
    "        with open(destination_folder+file_name,'w') as fdst:\n",
    "            fdst.write(fsrc.read())\n",
    "            fdst.write(fsrc.read())\n",
    "            fsrc.close()\n",
    "            fdst.close()\n",
    "\n",
    "# classes.txt dosyasını predefined_classes.txt dosyasından aktarma işlemi.\n",
    "# Eğer çalıştığımız dataset'in içerdiği classlar değişecekse sadece predefined_classes.txt değiştirilecek.\n",
    "with open(classes_file, 'r') as fcls:\n",
    "     with open(destination_folder+\"classes.txt\",'w') as fdst:\n",
    "            fdst.write(fcls.read())\n",
    "            fcls.close()\n",
    "            fdst.close()"
   ]
  },
  {
   "cell_type": "markdown",
   "metadata": {},
   "source": [
    "# LabelImg Kısmı"
   ]
  },
  {
   "cell_type": "code",
   "execution_count": null,
   "metadata": {},
   "outputs": [],
   "source": [
    "%cd labelImg\n",
    "!python labelImg.py\n",
    "%cd ../"
   ]
  }
 ],
 "metadata": {
  "kernelspec": {
   "display_name": "Python 3.10.8 64-bit (microsoft store)",
   "language": "python",
   "name": "python3"
  },
  "language_info": {
   "codemirror_mode": {
    "name": "ipython",
    "version": 3
   },
   "file_extension": ".py",
   "mimetype": "text/x-python",
   "name": "python",
   "nbconvert_exporter": "python",
   "pygments_lexer": "ipython3",
   "version": "3.10.8"
  },
  "orig_nbformat": 4,
  "vscode": {
   "interpreter": {
    "hash": "40f5d083b8b01c95152df7a76042e8da1c17f7da3693c003992c2830e5c40ac2"
   }
  }
 },
 "nbformat": 4,
 "nbformat_minor": 2
}
