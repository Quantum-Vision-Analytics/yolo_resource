{
 "cells": [
  {
   "cell_type": "markdown",
   "metadata": {},
   "source": [
    "# İmport modules"
   ]
  },
  {
   "cell_type": "code",
   "execution_count": 36,
   "metadata": {},
   "outputs": [],
   "source": [
    "import os\n",
    "import wget"
   ]
  },
  {
   "cell_type": "markdown",
   "metadata": {},
   "source": [
    "# Setup (Clone or Update) "
   ]
  },
  {
   "cell_type": "markdown",
   "metadata": {},
   "source": [
    "<li>Directorylerde sorun yaşamamak için \"C:\\Python Projects\" uzantısında yoksa klasör oluşturulur varsa pas geçilir.\n",
    "<li>Directoryde eğer klonlanmış dosya yoksa klonlama varsa güncelleme işlemi yapılır.\n",
    "<li>model indirilmediyse onu da klonlama işleminden sonra halleder."
   ]
  },
  {
   "cell_type": "code",
   "execution_count": 10,
   "metadata": {},
   "outputs": [
    {
     "name": "stdout",
     "output_type": "stream",
     "text": [
      "Python Projects klasörü zaten bulunuyor.\n",
      "yolo_resource directorysine girdiniz\n",
      "Already up to date.\n",
      "değişiklikler githubdan çekildi\n"
     ]
    }
   ],
   "source": [
    "# directorylerde sorun yaşamamak için \n",
    "if os.path.isdir(\"C:\\Python Projects\") == False:\n",
    "    os.mkdir(\"Python Projects\")\n",
    "else:\n",
    "    print(\"Python Projects klasörü zaten bulunuyor.\")\n",
    "os.chdir(\"C:\\Python Projects\")\n",
    "\n",
    "# directoryde eğer klonlanmış dosya yoksa klonla varsa güncelle işlemi yapılır.\n",
    "if os.path.isdir(\"C:\\Python Projects\\yolo_resource\") == False:\n",
    "    !git clone https://github.com/Quantum-Vision-Analytics/yolo_resource.git\n",
    "    print('klonlama işlemi gerçekleştirildi')\n",
    "    \n",
    "    if os.path.isfile(\"yolov7-e6e.pt\") == True:\n",
    "        print('modeliniz zaten yüklenmiş')\n",
    "    else:\n",
    "        URL = \"https://github.com/WongKinYiu/yolov7/releases/download/v0.1/yolov7-e6e.pt\"\n",
    "        wget.download(URL, \"yolov7-e6e.pt\")\n",
    "        print('Modeliniz başarıyla yüklendi!')\n",
    "else:\n",
    "  \n",
    "    if os.getcwd()  != 'C:\\Python Projects\\yolo_resource':\n",
    "        os.chdir(\"C:\\Python Projects\\yolo_resource\")\n",
    "        print('yolo_resource directorysine girdiniz')\n",
    "    else:\n",
    "        print('zaten yolo_resource directorysinin içindesiniz')\n",
    "\n",
    "    !git pull\n",
    "    print('değişiklikler githubdan çekildi')"
   ]
  },
  {
   "cell_type": "markdown",
   "metadata": {},
   "source": [
    "# Çalıştırma Kısmı"
   ]
  },
  {
   "cell_type": "code",
   "execution_count": 11,
   "metadata": {},
   "outputs": [
    {
     "name": "stdout",
     "output_type": "stream",
     "text": [
      "Fusing layers... \n",
      "12 persons, 1 bicycle, 1 car, 7 motorcycles, 2 traffic lights, 4 handbags, 1 tv, Done. (3588.6ms) Inference, (0.0ms) NMS\n",
      " The image with the result is saved in: detections\\result8\\20762794-7664797-image-a-61_1573222205997.jpg\n",
      "18 persons, 1 handbag, 1 sports ball, 2 cell phones, Done. (3564.1ms) Inference, (8.3ms) NMS\n",
      " The image with the result is saved in: detections\\result8\\78135414b804800b0e93bd12a1bdc9a1.png\n",
      "9 persons, 1 cup, 6 cell phones, Done. (3002.5ms) Inference, (8.0ms) NMS\n",
      " The image with the result is saved in: detections\\result8\\GettyImages-1301916189-copy-1617396036.webp\n",
      "3 persons, 1 boat, Done. (5046.5ms) Inference, (8.0ms) NMS\n",
      " The image with the result is saved in: detections\\result8\\SyFrt_2_friends_drinking_lava_by_the_river_8a2dcb40-ac41-464e-b75c-75c2c6dc8a9a.png\n",
      "17 persons, 32 cars, 4 trucks, Done. (3881.4ms) Inference, (0.0ms) NMS\n",
      " The image with the result is saved in: detections\\result8\\highway-traffic.webp\n",
      "1 person, 1 bicycle, 7 cars, 4 trucks, 1 traffic light, Done. (3673.5ms) Inference, (8.0ms) NMS\n",
      " The image with the result is saved in: detections\\result8\\image1.jpeg\n",
      "2 persons, 1 dog, Done. (3643.8ms) Inference, (8.0ms) NMS\n",
      " The image with the result is saved in: detections\\result8\\image2.jpg\n",
      "1 person, 1 dog, 1 backpack, 1 umbrella, 1 bowl, Done. (3674.4ms) Inference, (0.0ms) NMS\n",
      " The image with the result is saved in: detections\\result8\\image3.jpg\n",
      "1 handbag, 2 bottles, 1 broccoli, 1 bed, 1 tv, 1 laptop, 7 books, 1 vase, 1 scissors, Done. (2813.8ms) Inference, (0.0ms) NMS\n",
      " The image with the result is saved in: detections\\result8\\image4.png\n",
      "1 person, 17 cars, 1 bus, 2 trucks, 5 traffic lights, Done. (3073.2ms) Inference, (15.6ms) NMS\n",
      " The image with the result is saved in: detections\\result8\\image5.jpg\n",
      "1 bicycle, 1 motorcycle, 1 truck, 1 dog, Done. (3899.8ms) Inference, (15.6ms) NMS\n",
      " The image with the result is saved in: detections\\result8\\image6.jpg\n",
      "3 persons, 1 bicycle, 1 car, Done. (3366.9ms) Inference, (0.0ms) NMS\n",
      " The image with the result is saved in: detections\\result8\\image7.jpg\n",
      "1 umbrella, 1 handbag, 1 bottle, 1 bed, 10 books, 1 teddy bear, Done. (3583.4ms) Inference, (8.1ms) NMS\n",
      " The image with the result is saved in: detections\\result8\\image8.jpeg\n",
      "3 persons, 1 handbag, 1 frisbee, 2 kites, Done. (5033.2ms) Inference, (0.0ms) NMS\n",
      " The image with the result is saved in: detections\\result8\\khashayar.tsf_goodbye_600a8002-eb63-461b-bcc1-9829dfb425f1.png\n"
     ]
    },
    {
     "name": "stderr",
     "output_type": "stream",
     "text": [
      "YOLOR  2022-11-30 torch 1.12.1+cpu CPU\n",
      "\n",
      "Model Summary: 792 layers, 151687420 parameters, 817020 gradients\n",
      "C:\\Users\\osman\\AppData\\Local\\Packages\\PythonSoftwareFoundation.Python.3.10_qbz5n2kfra8p0\\LocalCache\\local-packages\\Python310\\site-packages\\torch\\functional.py:478: UserWarning: torch.meshgrid: in an upcoming release, it will be required to pass the indexing argument. (Triggered internally at  ..\\aten\\src\\ATen\\native\\TensorShape.cpp:2895.)\n",
      "  return _VF.meshgrid(tensors, **kwargs)  # type: ignore[attr-defined]\n"
     ]
    }
   ],
   "source": [
    "!python Auto_Annotator.py --weights yolov7-e6e.pt --conf 0.25 --img-size 1280 --source imagesTest --no-trace --save-txt"
   ]
  },
  {
   "cell_type": "markdown",
   "metadata": {},
   "source": [
    "# Dosya işlemleri"
   ]
  },
  {
   "cell_type": "code",
   "execution_count": 12,
   "metadata": {},
   "outputs": [],
   "source": [
    "source_folder = \"detections\\\\\"+os.listdir(path=\"detections\")[-1]+\"\\labels\\\\\"\n",
    "destination_folder = \"imagesTest\\\\\"\n",
    "\n",
    "for file_name in os.listdir(source_folder):\n",
    "    with open(source_folder+file_name, 'r') as fsrc:\n",
    "        with open(destination_folder+file_name,'w') as fdst:\n",
    "            fdst.write(fsrc.read())\n",
    "            fsrc.close()\n",
    "            fdst.close()"
   ]
  },
  {
   "cell_type": "markdown",
   "metadata": {},
   "source": [
    "# LabelImg Kısmı"
   ]
  },
  {
   "cell_type": "code",
   "execution_count": 8,
   "metadata": {},
   "outputs": [
    {
     "name": "stdout",
     "output_type": "stream",
     "text": [
      "c:\\Python Projects\\yolo_resource\\labelImg\n",
      "c:\\Python Projects\\yolo_resource\n"
     ]
    }
   ],
   "source": [
    "%cd labelImg\n",
    "!python labelImg.py\n",
    "%cd ../"
   ]
  }
 ],
 "metadata": {
  "kernelspec": {
   "display_name": "Python 3.10.8 64-bit (microsoft store)",
   "language": "python",
   "name": "python3"
  },
  "language_info": {
   "codemirror_mode": {
    "name": "ipython",
    "version": 3
   },
   "file_extension": ".py",
   "mimetype": "text/x-python",
   "name": "python",
   "nbconvert_exporter": "python",
   "pygments_lexer": "ipython3",
   "version": "3.10.8"
  },
  "orig_nbformat": 4,
  "vscode": {
   "interpreter": {
    "hash": "40f5d083b8b01c95152df7a76042e8da1c17f7da3693c003992c2830e5c40ac2"
   }
  }
 },
 "nbformat": 4,
 "nbformat_minor": 2
}
