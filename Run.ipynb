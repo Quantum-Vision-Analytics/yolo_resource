{
 "cells": [
  {
   "attachments": {},
   "cell_type": "markdown",
   "metadata": {},
   "source": [
    "# Ağırlıkların İndirilmesi Kısmı "
   ]
  },
  {
   "attachments": {},
   "cell_type": "markdown",
   "metadata": {},
   "source": [
    "<li>Repomuzu klonladıktan sonra ağırlıklarımızı indirmemizi sağlar\n",
    "<li>Ya da farklı modelleri(mesela yolov7-w6.pt) yüklemek için kullanılabilir."
   ]
  },
  {
   "cell_type": "code",
   "execution_count": null,
   "metadata": {},
   "outputs": [],
   "source": [
    "import os\n",
    "\n",
    "if os.path.isfile(\"yolov7-e6e.pt\") == True:\n",
    "    print('modeliniz zaten yüklenmiş')\n",
    "else:\n",
    "    #!pip install wget\n",
    "    #import wget\n",
    "    print(\"model yok\")\n",
    "    URL = \"https://github.com/WongKinYiu/yolov7/releases/download/v0.1/yolov7-e6e.pt\"\n",
    "    #wget.download(URL, \"yolov7-e6e.pt\")\n",
    "    print('Modeliniz başarıyla yüklendi!')"
   ]
  },
  {
   "attachments": {},
   "cell_type": "markdown",
   "metadata": {},
   "source": [
    "# Execution"
   ]
  },
  {
   "cell_type": "code",
   "execution_count": 3,
   "metadata": {},
   "outputs": [
    {
     "name": "stdout",
     "output_type": "stream",
     "text": [
      "Innit done\n",
      "Fusing layers... \n",
      "Loading model: 8.937 seconds\n",
      "Inference: 3.87 seconds\n",
      "Total time: 12.806 seconds\n",
      "[('person', [(582, 256), (596, 256), (596, 293), (582, 293)], None, None, False), ('person', [(93, 237), (111, 237), (111, 292), (93, 292)], None, None, False), ('person', [(415, 273), (453, 273), (453, 322), (415, 322)], None, None, False), ('person', [(482, 256), (527, 256), (527, 410), (482, 410)], None, None, False), ('person', [(533, 260), (580, 260), (580, 420), (533, 420)], None, None, False), ('person', [(461, 255), (507, 255), (507, 422), (461, 422)], None, None, False)]\n",
      "[('person', [(521, 252), (540, 252), (540, 273), (521, 273)], None, None, False), ('person', [(553, 255), (575, 255), (575, 278), (553, 278)], None, None, False), ('person', [(151, 293), (168, 293), (168, 323), (151, 323)], None, None, False), ('person', [(388, 270), (404, 270), (404, 301), (388, 301)], None, None, False), ('person', [(404, 271), (434, 271), (434, 306), (404, 306)], None, None, False), ('person', [(284, 301), (304, 301), (304, 337), (284, 337)], None, None, False), ('person', [(357, 276), (373, 276), (373, 305), (357, 305)], None, None, False), ('person', [(600, 258), (612, 258), (612, 278), (600, 278)], None, None, False), ('person', [(271, 302), (288, 302), (288, 332), (271, 332)], None, None, False), ('person', [(298, 296), (328, 296), (328, 342), (298, 342)], None, None, False), ('person', [(594, 257), (604, 257), (604, 281), (594, 281)], None, None, False), ('person', [(206, 306), (242, 306), (242, 352), (206, 352)], None, None, False), ('person', [(389, 271), (416, 271), (416, 331), (389, 331)], None, None, False), ('person', [(557, 255), (583, 255), (583, 298), (557, 298)], None, None, False), ('person', [(622, 254), (632, 254), (632, 278), (622, 278)], None, None, False), ('person', [(47, 321), (74, 321), (74, 352), (47, 352)], None, None, False), ('person', [(552, 262), (585, 262), (585, 357), (552, 357)], None, None, False), ('person', [(515, 254), (538, 254), (538, 331), (515, 331)], None, None, False), ('person', [(353, 277), (376, 277), (376, 344), (353, 344)], None, None, False), ('person', [(582, 256), (596, 256), (596, 293), (582, 293)], None, None, False), ('person', [(93, 237), (111, 237), (111, 292), (93, 292)], None, None, False), ('person', [(415, 273), (453, 273), (453, 322), (415, 322)], None, None, False), ('person', [(482, 256), (527, 256), (527, 410), (482, 410)], None, None, False), ('person', [(533, 260), (580, 260), (580, 420), (533, 420)], None, None, False), ('person', [(461, 255), (507, 255), (507, 422), (461, 422)], None, None, False)]\n",
      "[('person', [(521, 252), (540, 252), (540, 273), (521, 273)], None, None, False), ('person', [(553, 255), (575, 255), (575, 278), (553, 278)], None, None, False), ('person', [(151, 293), (168, 293), (168, 323), (151, 323)], None, None, False), ('person', [(388, 270), (404, 270), (404, 301), (388, 301)], None, None, False), ('person', [(404, 271), (434, 271), (434, 306), (404, 306)], None, None, False), ('person', [(284, 301), (304, 301), (304, 337), (284, 337)], None, None, False), ('person', [(357, 276), (373, 276), (373, 305), (357, 305)], None, None, False), ('person', [(600, 258), (612, 258), (612, 278), (600, 278)], None, None, False), ('person', [(271, 302), (288, 302), (288, 332), (271, 332)], None, None, False), ('person', [(298, 296), (328, 296), (328, 342), (298, 342)], None, None, False), ('person', [(594, 257), (604, 257), (604, 281), (594, 281)], None, None, False), ('person', [(206, 306), (242, 306), (242, 352), (206, 352)], None, None, False), ('person', [(389, 271), (416, 271), (416, 331), (389, 331)], None, None, False), ('person', [(557, 255), (583, 255), (583, 298), (557, 298)], None, None, False), ('person', [(622, 254), (632, 254), (632, 278), (622, 278)], None, None, False), ('person', [(47, 321), (74, 321), (74, 352), (47, 352)], None, None, False), ('person', [(552, 262), (585, 262), (585, 357), (552, 357)], None, None, False), ('person', [(515, 254), (538, 254), (538, 331), (515, 331)], None, None, False), ('person', [(353, 277), (376, 277), (376, 344), (353, 344)], None, None, False), ('person', [(582, 256), (596, 256), (596, 293), (582, 293)], None, None, False), ('person', [(93, 237), (111, 237), (111, 292), (93, 292)], None, None, False), ('person', [(415, 273), (453, 273), (453, 322), (415, 322)], None, None, False), ('person', [(482, 256), (527, 256), (527, 410), (482, 410)], None, None, False), ('person', [(533, 260), (580, 260), (580, 420), (533, 420)], None, None, False), ('person', [(461, 255), (507, 255), (507, 422), (461, 422)], None, None, False)]\n",
      "[('person', [(0, 282), (22, 282), (22, 327), (0, 327)], None, None, False), ('person', [(431, 550), (484, 550), (484, 586), (431, 586)], None, None, False), ('person', [(263, 371), (477, 371), (477, 583), (263, 583)], None, None, False), ('person', [(562, 293), (599, 293), (599, 322), (562, 322)], None, None, False), ('person', [(634, 370), (674, 370), (674, 408), (634, 408)], None, None, False), ('person', [(1, 655), (115, 655), (115, 759), (1, 759)], None, None, False), ('person', [(323, 417), (380, 417), (380, 454), (323, 454)], None, None, False), ('person', [(600, 704), (654, 704), (654, 745), (600, 745)], None, None, False), ('person', [(588, 290), (627, 290), (627, 322), (588, 322)], None, None, False), ('person', [(939, 565), (980, 565), (980, 596), (939, 596)], None, None, False), ('person', [(549, 296), (583, 296), (583, 323), (549, 323)], None, None, False), ('person', [(858, 296), (1022, 296), (1022, 435), (858, 435)], None, None, False), ('person', [(691, 368), (732, 368), (732, 402), (691, 402)], None, None, False), ('person', [(348, 419), (393, 419), (393, 447), (348, 447)], None, None, False), ('person', [(673, 366), (707, 366), (707, 405), (673, 405)], None, None, False), ('person', [(354, 512), (584, 512), (584, 695), (354, 695)], None, None, False), ('person', [(932, 317), (963, 317), (963, 351), (932, 351)], None, None, False), ('person', [(387, 421), (431, 421), (431, 450), (387, 450)], None, None, False), ('person', [(752, 464), (802, 464), (802, 492), (752, 492)], None, None, False), ('person', [(952, 553), (1023, 553), (1023, 599), (952, 599)], None, None, False), ('person', [(474, 552), (529, 552), (529, 584), (474, 584)], None, None, False), ('person', [(1, 682), (56, 682), (56, 731), (1, 731)], None, None, False), ('person', [(947, 316), (996, 316), (996, 351), (947, 351)], None, None, False), ('person', [(396, 543), (447, 543), (447, 587), (396, 587)], None, None, False)]\n",
      "[('person', [(91, 23), (122, 23), (122, 107), (91, 107)], None, None, False), ('person', [(60, 17), (90, 17), (90, 106), (60, 106)], None, None, False)]\n",
      "[('person', [(1132, 295), (1200, 295), (1200, 390), (1132, 390)], None, None, False), ('person', [(770, 214), (1032, 214), (1032, 547), (770, 547)], None, None, False)]\n",
      "[('person', [(1204, 200), (1237, 200), (1237, 272), (1204, 272)], None, None, False), ('person', [(369, 163), (426, 163), (426, 232), (369, 232)], None, None, False), ('person', [(213, 805), (357, 805), (357, 1073), (213, 1073)], None, None, False), ('person', [(198, 829), (246, 829), (246, 933), (198, 933)], None, None, False), ('person', [(219, 780), (274, 780), (274, 881), (219, 881)], None, None, False), ('person', [(222, 808), (344, 808), (344, 934), (222, 934)], None, None, False)]\n",
      "[('person', [(684, 110), (713, 110), (713, 153), (684, 153)], None, None, False)]\n",
      "[('person', [(413, 254), (440, 254), (440, 283), (413, 283)], None, None, False), ('person', [(306, 279), (343, 279), (343, 306), (306, 306)], None, None, False), ('person', [(440, 279), (483, 279), (483, 313), (440, 313)], None, None, False), ('person', [(508, 260), (608, 260), (608, 315), (508, 315)], None, None, False), ('person', [(308, 278), (333, 278), (333, 295), (308, 295)], None, None, False), ('person', [(259, 274), (347, 274), (347, 320), (259, 320)], None, None, False), ('person', [(545, 227), (643, 227), (643, 312), (545, 312)], None, None, False), ('person', [(408, 268), (480, 268), (480, 314), (408, 314)], None, None, False), ('person', [(383, 261), (452, 261), (452, 316), (383, 316)], None, None, False), ('person', [(386, 269), (420, 269), (420, 311), (386, 311)], None, None, False), ('person', [(687, 190), (784, 190), (784, 443), (687, 443)], None, None, False), ('person', [(82, 214), (234, 214), (234, 496), (82, 496)], None, None, False)]\n",
      "[('person', [(0, 0), (18, 0), (18, 71), (0, 71)], None, None, False)]\n",
      "[('person', [(540, 630), (605, 630), (605, 889), (540, 889)], None, None, False), ('person', [(190, 373), (331, 373), (331, 810), (190, 810)], None, None, False), ('person', [(542, 441), (744, 441), (744, 887), (542, 887)], None, None, False)]\n",
      "[('person', [(343, 351), (562, 351), (562, 564), (343, 564)], None, None, False), ('person', [(0, 636), (74, 636), (74, 837), (0, 837)], None, None, False), ('person', [(1, 627), (166, 627), (166, 850), (1, 850)], None, None, False), ('person', [(0, 637), (70, 637), (70, 717), (0, 717)], None, None, False), ('person', [(364, 337), (489, 337), (489, 494), (364, 494)], None, None, False), ('person', [(516, 326), (642, 326), (642, 542), (516, 542)], None, None, False)]\n"
     ]
    },
    {
     "name": "stderr",
     "output_type": "stream",
     "text": [
      "YOLOR  e6fb290 torch 1.13.1+cu117 CUDA:0 (NVIDIA GeForce GTX 1660 Ti, 6143.6875MB)\n",
      "\n",
      "Model Summary: 792 layers, 151687420 parameters, 817020 gradients\n",
      "C:\\Users\\victm\\AppData\\Roaming\\Python\\Python310\\site-packages\\torch\\functional.py:504: UserWarning: torch.meshgrid: in an upcoming release, it will be required to pass the indexing argument. (Triggered internally at ..\\aten\\src\\ATen\\native\\TensorShape.cpp:3191.)\n",
      "  return _VF.meshgrid(tensors, **kwargs)  # type: ignore[attr-defined]\n"
     ]
    }
   ],
   "source": [
    "!python Auto_Annotator.py --weights yolov7-e6e.pt --conf 0.25 --iou-thres 0.4 --img-size 384 --source \"imagesTest\" --save-txt --no-trace --nosave --device 0  --batch-size 3 --thread-count 2 --class person"
   ]
  },
  {
   "cell_type": "markdown",
   "metadata": {},
   "source": [
    "# LabelImg Kısmı"
   ]
  },
  {
   "cell_type": "code",
   "execution_count": 2,
   "metadata": {},
   "outputs": [],
   "source": [
    "!python labelImg\\labelImg.py"
   ]
  }
 ],
 "metadata": {
  "kernelspec": {
   "display_name": "Python 3",
   "language": "python",
   "name": "python3"
  },
  "language_info": {
   "codemirror_mode": {
    "name": "ipython",
    "version": 3
   },
   "file_extension": ".py",
   "mimetype": "text/x-python",
   "name": "python",
   "nbconvert_exporter": "python",
   "pygments_lexer": "ipython3",
   "version": "3.10.9"
  },
  "orig_nbformat": 4,
  "vscode": {
   "interpreter": {
    "hash": "8a5edab282632443219e051e4ade2d1d5bbc671c781051bf1437897cbdfea0f1"
   }
  }
 },
 "nbformat": 4,
 "nbformat_minor": 2
}
