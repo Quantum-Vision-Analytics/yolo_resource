{
 "cells": [
  {
   "attachments": {},
   "cell_type": "markdown",
   "metadata": {},
   "source": [
    "# Ağırlıkların İndirilmesi Kısmı "
   ]
  },
  {
   "attachments": {},
   "cell_type": "markdown",
   "metadata": {},
   "source": [
    "<li>Repomuzu klonladıktan sonra ağırlıklarımızı indirmemizi sağlar\n",
    "<li>Ya da farklı modelleri(mesela yolov7-w6.pt) yüklemek için kullanılabilir."
   ]
  },
  {
   "cell_type": "code",
   "execution_count": null,
   "metadata": {},
   "outputs": [],
   "source": [
    "import os\n",
    "\n",
    "if os.path.isfile(\"yolov7-e6e.pt\") == True:\n",
    "    print('modeliniz zaten yüklenmiş')\n",
    "else:\n",
    "    #!pip install wget\n",
    "    #import wget\n",
    "    print(\"model yok\")\n",
    "    URL = \"https://github.com/WongKinYiu/yolov7/releases/download/v0.1/yolov7-e6e.pt\"\n",
    "    #wget.download(URL, \"yolov7-e6e.pt\")\n",
    "    print('Modeliniz başarıyla yüklendi!')"
   ]
  },
  {
   "cell_type": "markdown",
   "metadata": {},
   "source": [
    "# Çalıştırma Kısmı"
   ]
  },
  {
   "cell_type": "code",
   "execution_count": 15,
   "metadata": {},
   "outputs": [
    {
     "name": "stderr",
     "output_type": "stream",
     "text": [
      "usage: Auto_Annotator.py [-h] [--weights WEIGHTS [WEIGHTS ...]]\n",
      "                         [--source SOURCE] [--img-size IMG_SIZE]\n",
      "                         [--conf-thres CONF_THRES] [--iou-thres IOU_THRES]\n",
      "                         [--device DEVICE] [--view-img] [--save-txt]\n",
      "                         [--save-conf] [--nosave]\n",
      "                         [--classes CLASSES [CLASSES ...]] [--agnostic-nms]\n",
      "                         [--augment] [--update] [--project PROJECT]\n",
      "                         [--name NAME] [--exist-ok] [--no-trace]\n",
      "                         [--multi-label] [--no-verify] [--half-precision]\n",
      "                         [--show-details] [--batch-size BATCH_SIZE]\n",
      "                         [--thread-count THREAD_COUNT]\n",
      "Auto_Annotator.py: error: argument --thread-count: invalid int value: '4;'\n"
     ]
    }
   ],
   "source": [
    "!python Auto_Annotator.py --weights yolov7-e6e.pt --conf 0.25 --iou-thres 0.4 --img-size 384 --source \"imagesTest\" --save-txt --no-trace --nosave --device 0 --batch-size 3 --thread-count 4"
   ]
  },
  {
   "cell_type": "markdown",
   "metadata": {},
   "source": [
    "# LabelImg Kısmı"
   ]
  },
  {
   "cell_type": "code",
   "execution_count": 2,
   "metadata": {},
   "outputs": [],
   "source": [
    "!python labelImg\\labelImg.py"
   ]
  }
 ],
 "metadata": {
  "kernelspec": {
   "display_name": "Python 3",
   "language": "python",
   "name": "python3"
  },
  "language_info": {
   "codemirror_mode": {
    "name": "ipython",
    "version": 3
   },
   "file_extension": ".py",
   "mimetype": "text/x-python",
   "name": "python",
   "nbconvert_exporter": "python",
   "pygments_lexer": "ipython3",
   "version": "3.10.9"
  },
  "orig_nbformat": 4,
  "vscode": {
   "interpreter": {
    "hash": "8a5edab282632443219e051e4ade2d1d5bbc671c781051bf1437897cbdfea0f1"
   }
  }
 },
 "nbformat": 4,
 "nbformat_minor": 2
}
