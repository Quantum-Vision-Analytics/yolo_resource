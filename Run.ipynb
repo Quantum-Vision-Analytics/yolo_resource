{
 "cells": [
  {
   "cell_type": "markdown",
   "metadata": {},
   "source": [
    "# İmport modules"
   ]
  },
  {
   "cell_type": "code",
   "execution_count": null,
   "metadata": {},
   "outputs": [],
   "source": [
    "import os\n",
    "import wget"
   ]
  },
  {
   "cell_type": "markdown",
   "metadata": {},
   "source": [
    "# Setup (Clone or Update) "
   ]
  },
  {
   "cell_type": "markdown",
   "metadata": {},
   "source": [
    "<li>Directorylerde sorun yaşamamak için \"C:\\Python Projects\" uzantısında yoksa klasör oluşturulur varsa pas geçilir.\n",
    "<li>Directoryde eğer klonlanmış dosya yoksa klonlama varsa güncelleme işlemi yapılır.\n",
    "<li>model indirilmediyse onu da klonlama işleminden sonra halleder."
   ]
  },
  {
   "cell_type": "code",
   "execution_count": null,
   "metadata": {},
   "outputs": [],
   "source": [
    "# directorylerde sorun yaşamamak için \n",
    "if os.path.isdir(\"C:\\Python Projects\") == False:\n",
    "    os.mkdir(\"Python Projects\")\n",
    "else:\n",
    "    print(\"Python Projects klasörü zaten bulunuyor.\")\n",
    "os.chdir(\"C:\\Python Projects\")\n",
    "\n",
    "# directoryde eğer klonlanmış dosya yoksa klonla varsa güncelle işlemi yapılır.\n",
    "if os.path.isdir(\"C:\\Python Projects\\yolo_resource\") == False:\n",
    "    !git clone https://github.com/Quantum-Vision-Analytics/yolo_resource.git\n",
    "    print('klonlama işlemi gerçekleştirildi')\n",
    "    \n",
    "    if os.path.isfile(\"yolov7-e6e.pt\") == True:\n",
    "        print('modeliniz zaten yüklenmiş')\n",
    "    else:\n",
    "        URL = \"https://github.com/WongKinYiu/yolov7/releases/download/v0.1/yolov7-e6e.pt\"\n",
    "        wget.download(URL, \"yolov7-e6e.pt\")\n",
    "        print('Modeliniz başarıyla yüklendi!')\n",
    "else:\n",
    "  \n",
    "    if os.getcwd()  != 'C:\\Python Projects\\yolo_resource':\n",
    "        os.chdir(\"C:\\Python Projects\\yolo_resource\")\n",
    "        print('yolo_resource directorysine girdiniz')\n",
    "    else:\n",
    "        print('zaten yolo_resource directorysinin içindesiniz')\n",
    "\n",
    "    !git pull\n",
    "    print('değişiklikler githubdan çekildi')"
   ]
  },
  {
   "cell_type": "markdown",
   "metadata": {},
   "source": [
    "# Çalıştırma Kısmı"
   ]
  },
  {
   "cell_type": "code",
   "execution_count": 9,
   "metadata": {},
   "outputs": [
    {
     "name": "stdout",
     "output_type": "stream",
     "text": [
      "Fusing layers... \n",
      "6 persons, 7 motorcycles, 1 handbag, 1 tv, Done. (59.3ms) Inference, (7.0ms) NMS\n",
      "7 persons, 1 umbrella, 1 sports ball, Done. (59.8ms) Inference, (2.0ms) NMS\n",
      "7 persons, Done. (59.9ms) Inference, (2.0ms) NMS\n",
      "3 persons, 2 boats, Done. (60.3ms) Inference, (2.0ms) NMS\n",
      "5 persons, 17 cars, 5 trucks, Done. (59.8ms) Inference, (2.0ms) NMS\n",
      "2 persons, 1 bicycle, 8 cars, 4 trucks, 2 traffic lights, Done. (60.3ms) Inference, (2.0ms) NMS\n",
      "2 persons, 1 dog, Done. (62.8ms) Inference, (2.0ms) NMS\n",
      "1 person, 1 bicycle, 1 dog, 1 backpack, 1 handbag, 1 bowl, Done. (60.9ms) Inference, (2.0ms) NMS\n",
      "1 bed, 1 tv, 1 refrigerator, 1 book, Done. (57.8ms) Inference, (2.0ms) NMS\n",
      "12 cars, 1 bus, 3 traffic lights, Done. (61.8ms) Inference, (2.0ms) NMS\n",
      "2 bicycles, 1 car, 1 truck, 1 dog, Done. (59.8ms) Inference, (2.0ms) NMS\n",
      "2 persons, 1 bicycle, 1 car, Done. (61.8ms) Inference, (2.0ms) NMS\n",
      "1 backpack, 1 bed, 2 books, Done. (59.8ms) Inference, (2.0ms) NMS\n",
      "2 persons, Done. (67.8ms) Inference, (3.0ms) NMS\n",
      "[('motorcycle', [(299, 298), (373, 298), (373, 359), (299, 359)], None, None, False), ('person', [(582, 256), (596, 256), (596, 293), (582, 293)], None, None, False), ('handbag', [(560, 345), (586, 345), (586, 412), (560, 412)], None, None, False), ('motorcycle', [(391, 291), (418, 291), (418, 337), (391, 337)], None, None, False), ('person', [(93, 237), (111, 237), (111, 292), (93, 292)], None, None, False), ('motorcycle', [(233, 334), (302, 334), (302, 422), (233, 422)], None, None, False), ('person', [(415, 273), (453, 273), (453, 322), (415, 322)], None, None, False), ('motorcycle', [(288, 299), (330, 299), (330, 358), (288, 358)], None, None, False), ('motorcycle', [(158, 317), (291, 317), (291, 423), (158, 423)], None, None, False), ('motorcycle', [(412, 288), (455, 288), (455, 326), (412, 326)], None, None, False), ('motorcycle', [(43, 310), (195, 310), (195, 423), (43, 423)], None, None, False), ('tv', [(47, 1), (352, 1), (352, 323), (47, 323)], None, None, False), ('person', [(482, 256), (527, 256), (527, 410), (482, 410)], None, None, False), ('person', [(533, 260), (580, 260), (580, 420), (533, 420)], None, None, False), ('person', [(461, 255), (507, 255), (507, 422), (461, 422)], None, None, False)]\n",
      "[('motorcycle', [(299, 298), (373, 298), (373, 359), (299, 359)], None, None, False), ('person', [(582, 256), (596, 256), (596, 293), (582, 293)], None, None, False), ('handbag', [(560, 345), (586, 345), (586, 412), (560, 412)], None, None, False), ('motorcycle', [(391, 291), (418, 291), (418, 337), (391, 337)], None, None, False), ('person', [(93, 237), (111, 237), (111, 292), (93, 292)], None, None, False), ('motorcycle', [(233, 334), (302, 334), (302, 422), (233, 422)], None, None, False), ('person', [(415, 273), (453, 273), (453, 322), (415, 322)], None, None, False), ('motorcycle', [(288, 299), (330, 299), (330, 358), (288, 358)], None, None, False), ('motorcycle', [(158, 317), (291, 317), (291, 423), (158, 423)], None, None, False), ('motorcycle', [(412, 288), (455, 288), (455, 326), (412, 326)], None, None, False), ('motorcycle', [(43, 310), (195, 310), (195, 423), (43, 423)], None, None, False), ('tv', [(47, 1), (352, 1), (352, 323), (47, 323)], None, None, False), ('person', [(482, 256), (527, 256), (527, 410), (482, 410)], None, None, False), ('person', [(533, 260), (580, 260), (580, 420), (533, 420)], None, None, False), ('person', [(461, 255), (507, 255), (507, 422), (461, 422)], None, None, False)]\n",
      "[('motorcycle', [(299, 298), (373, 298), (373, 359), (299, 359)], None, None, False), ('person', [(582, 256), (596, 256), (596, 293), (582, 293)], None, None, False), ('handbag', [(560, 345), (586, 345), (586, 412), (560, 412)], None, None, False), ('motorcycle', [(391, 291), (418, 291), (418, 337), (391, 337)], None, None, False), ('person', [(93, 237), (111, 237), (111, 292), (93, 292)], None, None, False), ('motorcycle', [(233, 334), (302, 334), (302, 422), (233, 422)], None, None, False), ('person', [(415, 273), (453, 273), (453, 322), (415, 322)], None, None, False), ('motorcycle', [(288, 299), (330, 299), (330, 358), (288, 358)], None, None, False), ('motorcycle', [(158, 317), (291, 317), (291, 423), (158, 423)], None, None, False), ('motorcycle', [(412, 288), (455, 288), (455, 326), (412, 326)], None, None, False), ('motorcycle', [(43, 310), (195, 310), (195, 423), (43, 423)], None, None, False), ('tv', [(47, 1), (352, 1), (352, 323), (47, 323)], None, None, False), ('person', [(482, 256), (527, 256), (527, 410), (482, 410)], None, None, False), ('person', [(533, 260), (580, 260), (580, 420), (533, 420)], None, None, False), ('person', [(461, 255), (507, 255), (507, 422), (461, 422)], None, None, False)]\n",
      "[('traffic light', [(471, 6), (520, 6), (520, 55), (471, 55)], None, None, False), ('car', [(638, 335), (749, 335), (749, 441), (638, 441)], None, None, False), ('car', [(600, 407), (732, 407), (732, 474), (600, 474)], None, None, False), ('car', [(1000, 322), (1103, 322), (1103, 400), (1000, 400)], None, None, False), ('traffic light', [(421, 902), (581, 902), (581, 1001), (421, 1001)], None, None, False), ('car', [(968, 186), (1055, 186), (1055, 267), (968, 267)], None, None, False), ('car', [(1003, 377), (1121, 377), (1121, 499), (1003, 499)], None, None, False), ('car', [(823, 176), (908, 176), (908, 233), (823, 233)], None, None, False), ('car', [(818, 811), (1029, 811), (1029, 976), (818, 976)], None, None, False), ('traffic light', [(1275, 878), (1478, 878), (1478, 983), (1275, 983)], None, None, False), ('bus', [(534, 460), (749, 460), (749, 775), (534, 775)], None, None, False), ('car', [(1111, 893), (1303, 893), (1303, 1064), (1111, 1064)], None, None, False), ('car', [(1051, 585), (1192, 585), (1192, 708), (1051, 708)], None, None, False), ('car', [(831, 530), (957, 530), (957, 631), (831, 631)], None, None, False), ('car', [(1100, 749), (1262, 749), (1262, 881), (1100, 881)], None, None, False), ('car', [(819, 653), (970, 653), (970, 797), (819, 797)], None, None, False)]\n",
      "[('person', [(640, 170), (667, 170), (667, 207), (640, 207)], None, None, False), ('traffic light', [(851, 1), (871, 1), (871, 67), (851, 67)], None, None, False), ('car', [(478, 184), (611, 184), (611, 243), (478, 243)], None, None, False), ('traffic light', [(760, 1), (779, 1), (779, 51), (760, 51)], None, None, False), ('truck', [(478, 184), (611, 184), (611, 243), (478, 243)], None, None, False), ('car', [(78, 220), (113, 220), (113, 304), (78, 304)], None, None, False), ('truck', [(755, 197), (871, 197), (871, 346), (755, 346)], None, None, False), ('car', [(1, 152), (95, 152), (95, 354), (1, 354)], None, None, False), ('bicycle', [(206, 322), (285, 322), (285, 441), (206, 441)], None, None, False), ('car', [(418, 224), (480, 224), (480, 315), (418, 315)], None, None, False), ('car', [(757, 198), (872, 198), (872, 346), (757, 346)], None, None, False), ('truck', [(0, 154), (95, 154), (95, 354), (0, 354)], None, None, False), ('truck', [(104, 91), (257, 91), (257, 316), (104, 316)], None, None, False), ('person', [(157, 142), (301, 142), (301, 401), (157, 401)], None, None, False), ('car', [(466, 218), (598, 218), (598, 339), (466, 339)], None, None, False), ('car', [(290, 210), (457, 210), (457, 352), (290, 352)], None, None, False), ('car', [(558, 206), (810, 206), (810, 359), (558, 359)], None, None, False)]\n",
      "[('person', [(341, 93), (553, 93), (553, 550), (341, 550)], None, None, False), ('person', [(979, 182), (1293, 182), (1293, 517), (979, 517)], None, None, False), ('person', [(486, 119), (785, 119), (785, 730), (486, 730)], None, None, False), ('person', [(0, 248), (232, 248), (232, 726), (0, 726)], None, None, False), ('person', [(679, 30), (1046, 30), (1046, 730), (679, 730)], None, None, False), ('person', [(85, 142), (523, 142), (523, 725), (85, 725)], None, None, False), ('person', [(1007, 347), (1296, 347), (1296, 725), (1007, 725)], None, None, False)]\n",
      "[('person', [(515, 274), (630, 274), (630, 417), (515, 417)], None, None, False), ('person', [(202, 345), (326, 345), (326, 529), (202, 529)], None, None, False), ('person', [(677, 333), (774, 333), (774, 501), (677, 501)], None, None, False), ('umbrella', [(331, 126), (395, 126), (395, 154), (331, 154)], None, None, False), ('person', [(521, 354), (714, 354), (714, 529), (521, 529)], None, None, False), ('person', [(7, 342), (139, 342), (139, 529), (7, 529)], None, None, False), ('person', [(115, 338), (207, 338), (207, 529), (115, 529)], None, None, False), ('person', [(194, 334), (605, 334), (605, 529), (194, 529)], None, None, False), ('sports ball', [(499, 115), (540, 115), (540, 156), (499, 156)], None, None, False)]\n"
     ]
    },
    {
     "name": "stderr",
     "output_type": "stream",
     "text": [
      "YOLOR  047a9a0 torch 1.13.1+cu117 CUDA:0 (NVIDIA GeForce GTX 1660 Ti, 6143.6875MB)\n",
      "\n",
      "Model Summary: 792 layers, 151687420 parameters, 817020 gradients\n",
      "d:\\Programs\\Python\\lib\\site-packages\\torch\\functional.py:504: UserWarning: torch.meshgrid: in an upcoming release, it will be required to pass the indexing argument. (Triggered internally at ..\\aten\\src\\ATen\\native\\TensorShape.cpp:3191.)\n",
      "  return _VF.meshgrid(tensors, **kwargs)  # type: ignore[attr-defined]\n"
     ]
    }
   ],
   "source": [
    "!python Auto_Annotator.py --weights yolov7-e6e.pt --conf 0.25 --iou-thres 0.4 --img-size 384 --source \"imagesTest\" --save-txt --no-trace --nosave --device 0"
   ]
  },
  {
   "cell_type": "markdown",
   "metadata": {},
   "source": [
    "# Dosya işlemleri"
   ]
  },
  {
   "cell_type": "code",
   "execution_count": null,
   "metadata": {},
   "outputs": [],
   "source": [
    "# Dosya yolu tanımlamaları\n",
    "source_folder = \"detections\\\\\"+os.listdir(path=\"detections\")[-1]+\"\\labels\\\\\"\n",
    "classes_file = \"labelImg\\data\\predefined_classes.txt\"\n",
    "destination_folder = \"imagesTest\\\\\"\n",
    "\n",
    "# Detection işleminin sonucunda ortaya çıkan label(.txt) dosyalarını imagesTest klasörüne aktarma işlemi.\n",
    "for file_name in os.listdir(source_folder):\n",
    "    with open(source_folder+file_name, 'r') as fsrc:\n",
    "        with open(destination_folder+file_name,'w') as fdst:\n",
    "            fdst.write(fsrc.read())\n",
    "            fdst.write(fsrc.read())\n",
    "            fsrc.close()\n",
    "            fdst.close()\n",
    "\n",
    "# classes.txt dosyasını predefined_classes.txt dosyasından aktarma işlemi.\n",
    "# Eğer çalıştığımız dataset'in içerdiği classlar değişecekse sadece predefined_classes.txt değiştirilecek.\n",
    "with open(classes_file, 'r') as fcls:\n",
    "     with open(destination_folder+\"classes.txt\",'w') as fdst:\n",
    "            fdst.write(fcls.read())\n",
    "            fcls.close()\n",
    "            fdst.close()"
   ]
  },
  {
   "cell_type": "markdown",
   "metadata": {},
   "source": [
    "# LabelImg Kısmı"
   ]
  },
  {
   "cell_type": "code",
   "execution_count": 8,
   "metadata": {},
   "outputs": [],
   "source": [
    "!python labelImg\\labelImg.py"
   ]
  }
 ],
 "metadata": {
  "kernelspec": {
   "display_name": "Python 3",
   "language": "python",
   "name": "python3"
  },
  "language_info": {
   "codemirror_mode": {
    "name": "ipython",
    "version": 3
   },
   "file_extension": ".py",
   "mimetype": "text/x-python",
   "name": "python",
   "nbconvert_exporter": "python",
   "pygments_lexer": "ipython3",
   "version": "3.10.8"
  },
  "orig_nbformat": 4,
  "vscode": {
   "interpreter": {
    "hash": "5312a05d4c1062e7e99dc4a1327331a73c17135ec320657c0e8e8843948bfa85"
   }
  }
 },
 "nbformat": 4,
 "nbformat_minor": 2
}
