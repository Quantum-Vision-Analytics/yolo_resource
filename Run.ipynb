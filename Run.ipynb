{
 "cells": [
  {
   "cell_type": "markdown",
   "metadata": {},
   "source": [
    "# İmport modules"
   ]
  },
  {
   "cell_type": "code",
   "execution_count": null,
   "metadata": {},
   "outputs": [],
   "source": [
    "import os\n",
    "import wget"
   ]
  },
  {
   "cell_type": "markdown",
   "metadata": {},
   "source": [
    "# Setup (Clone or Update) "
   ]
  },
  {
   "cell_type": "markdown",
   "metadata": {},
   "source": [
    "<li>Directorylerde sorun yaşamamak için \"C:\\Python Projects\" uzantısında yoksa klasör oluşturulur varsa pas geçilir.\n",
    "<li>Directoryde eğer klonlanmış dosya yoksa klonlama varsa güncelleme işlemi yapılır.\n",
    "<li>model indirilmediyse onu da klonlama işleminden sonra halleder."
   ]
  },
  {
   "cell_type": "code",
   "execution_count": null,
   "metadata": {},
   "outputs": [],
   "source": [
    "# directorylerde sorun yaşamamak için \n",
    "if os.path.isdir(\"C:\\Python Projects\") == False:\n",
    "    os.mkdir(\"Python Projects\")\n",
    "else:\n",
    "    print(\"Python Projects klasörü zaten bulunuyor.\")\n",
    "os.chdir(\"C:\\Python Projects\")\n",
    "\n",
    "# directoryde eğer klonlanmış dosya yoksa klonla varsa güncelle işlemi yapılır.\n",
    "if os.path.isdir(\"C:\\Python Projects\\yolo_resource\") == False:\n",
    "    !git clone https://github.com/Quantum-Vision-Analytics/yolo_resource.git\n",
    "    print('klonlama işlemi gerçekleştirildi')\n",
    "    \n",
    "    if os.path.isfile(\"yolov7-e6e.pt\") == True:\n",
    "        print('modeliniz zaten yüklenmiş')\n",
    "    else:\n",
    "        URL = \"https://github.com/WongKinYiu/yolov7/releases/download/v0.1/yolov7-e6e.pt\"\n",
    "        wget.download(URL, \"yolov7-e6e.pt\")\n",
    "        print('Modeliniz başarıyla yüklendi!')\n",
    "else:\n",
    "  \n",
    "    if os.getcwd()  != 'C:\\Python Projects\\yolo_resource':\n",
    "        os.chdir(\"C:\\Python Projects\\yolo_resource\")\n",
    "        print('yolo_resource directorysine girdiniz')\n",
    "    else:\n",
    "        print('zaten yolo_resource directorysinin içindesiniz')\n",
    "\n",
    "    !git pull\n",
    "    print('değişiklikler githubdan çekildi')"
   ]
  },
  {
   "cell_type": "markdown",
   "metadata": {},
   "source": [
    "# Çalıştırma Kısmı"
   ]
  },
  {
   "cell_type": "code",
   "execution_count": null,
   "metadata": {},
   "outputs": [],
   "source": [
    "!python Auto_Annotator.py --weights yolov7-e6e.pt --conf 0.25 --iou-thres 0.4 --img-size 384 --source \"imagesTest\" --save-txt --no-trace --nosave --device 0"
   ]
  },
  {
   "cell_type": "markdown",
   "metadata": {},
   "source": [
    "# LabelImg Kısmı"
   ]
  },
  {
   "cell_type": "code",
   "execution_count": 8,
   "metadata": {},
   "outputs": [],
   "source": [
    "!python labelImg\\labelImg.py"
   ]
  }
 ],
 "metadata": {
  "kernelspec": {
   "display_name": "Python 3",
   "language": "python",
   "name": "python3"
  },
  "language_info": {
   "codemirror_mode": {
    "name": "ipython",
    "version": 3
   },
   "file_extension": ".py",
   "mimetype": "text/x-python",
   "name": "python",
   "nbconvert_exporter": "python",
   "pygments_lexer": "ipython3",
   "version": "3.10.8"
  },
  "orig_nbformat": 4,
  "vscode": {
   "interpreter": {
    "hash": "5312a05d4c1062e7e99dc4a1327331a73c17135ec320657c0e8e8843948bfa85"
   }
  }
 },
 "nbformat": 4,
 "nbformat_minor": 2
}
