{
 "cells": [
  {
   "attachments": {},
   "cell_type": "markdown",
   "metadata": {},
   "source": [
    "# Ağırlıkların İndirilmesi Kısmı "
   ]
  },
  {
   "attachments": {},
   "cell_type": "markdown",
   "metadata": {},
   "source": [
    "<li>Repomuzu klonladıktan sonra ağırlıklarımızı indirmemizi sağlar\n",
    "<li>Ya da farklı modelleri(mesela yolov7-w6.pt) yüklemek için kullanılabilir."
   ]
  },
  {
   "cell_type": "code",
   "execution_count": null,
   "metadata": {},
   "outputs": [],
   "source": [
    "import os\n",
    "\n",
    "if os.path.isfile(\"yolov7-e6e.pt\") == True:\n",
    "    print('modeliniz zaten yüklenmiş')\n",
    "else:\n",
    "    !pip install wget\n",
    "    import wget \n",
    "    print(\"model yok\")\n",
    "    URL = \"https://github.com/WongKinYiu/yolov7/releases/download/v0.1/yolov7-e6e.pt\"\n",
    "    wget.download(URL, \"yolov7-e6e.pt\")\n",
    "    print('Modeliniz başarıyla yüklendi!')"
   ]
  },
  {
   "cell_type": "markdown",
   "metadata": {},
   "source": [
    "# Çalıştırma Kısmı"
   ]
  },
  {
   "cell_type": "code",
   "execution_count": null,
   "metadata": {},
   "outputs": [],
   "source": [
    "!python Auto_Annotator.py --weights yolov7-e6e.pt --conf 0.25 --iou-thres 0.4 --img-size 384 --source \"imagesTest\" --save-txt --no-trace --nosave --device 0"
   ]
  },
  {
   "cell_type": "markdown",
   "metadata": {},
   "source": [
    "# LabelImg Kısmı"
   ]
  },
  {
   "cell_type": "code",
   "execution_count": null,
   "metadata": {},
   "outputs": [],
   "source": [
    "!python labelImg\\labelImg.py"
   ]
  }
 ],
 "metadata": {
  "kernelspec": {
   "display_name": "base",
   "language": "python",
   "name": "python3"
  },
  "language_info": {
   "codemirror_mode": {
    "name": "ipython",
    "version": 3
   },
   "file_extension": ".py",
   "mimetype": "text/x-python",
   "name": "python",
   "nbconvert_exporter": "python",
   "pygments_lexer": "ipython3",
   "version": "3.9.7"
  },
  "orig_nbformat": 4,
  "vscode": {
   "interpreter": {
    "hash": "d3ad0e4091038abe9230f4e2af681b1fc182a9b26b8adbc06871e344543b7903"
   }
  }
 },
 "nbformat": 4,
 "nbformat_minor": 2
}
